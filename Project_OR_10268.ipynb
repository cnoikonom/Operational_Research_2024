{
  "nbformat": 4,
  "nbformat_minor": 0,
  "metadata": {
    "colab": {
      "provenance": []
    },
    "kernelspec": {
      "name": "python3",
      "display_name": "Python 3"
    },
    "language_info": {
      "name": "python"
    }
  },
  "cells": [
    {
      "cell_type": "markdown",
      "source": [
        "#Επιχειρησιακή Έρευνα - Εργασία 2024\n",
        "####Ονοματεπώνυμο: Οικονόμου Χρήστος\n",
        "####Α.Ε.Μ.: 10268\n",
        "####email: cnoikonom@ece.auth.gr"
      ],
      "metadata": {
        "id": "Sg_tjjE7T3io"
      }
    },
    {
      "cell_type": "markdown",
      "source": [
        "##Εγκατάσταση Βιβλιοθηκών\n",
        "\n",
        "#####Εισαγωγή του Gurobi Python Module και άλλων χρήσιμων βιβλιοθηκών της Python"
      ],
      "metadata": {
        "id": "6TkO7_I3V0ir"
      }
    },
    {
      "cell_type": "code",
      "execution_count": 316,
      "metadata": {
        "colab": {
          "base_uri": "https://localhost:8080/"
        },
        "id": "m2dgrO4hQxjW",
        "outputId": "f509470f-b437-48d1-d00e-b90b228f740b"
      },
      "outputs": [
        {
          "output_type": "stream",
          "name": "stdout",
          "text": [
            "Requirement already satisfied: gurobipy in /usr/local/lib/python3.10/dist-packages (11.0.2)\n"
          ]
        }
      ],
      "source": [
        "%pip install gurobipy"
      ]
    },
    {
      "cell_type": "code",
      "source": [
        "import numpy as np\n",
        "import gurobipy as gp\n",
        "from gurobipy import GRB\n",
        "\n"
      ],
      "metadata": {
        "id": "0lNW4oemTX7v"
      },
      "execution_count": 317,
      "outputs": []
    },
    {
      "cell_type": "markdown",
      "source": [
        "##1ο Ερώτημα - Προγραμματισμός Προσγειώσεων Πτήσεων"
      ],
      "metadata": {
        "id": "xSE__oU4XnX2"
      }
    },
    {
      "cell_type": "markdown",
      "source": [
        "###Εισαγωγή Δεδομένων\n",
        "#####Ορισμός των δεδομένων εισόδου του μοντέλου"
      ],
      "metadata": {
        "id": "QigNeweMWXG6"
      }
    },
    {
      "cell_type": "code",
      "source": [
        "# Earliest time an aircraft can arrive at the airport\n",
        "earliest_arrival_time = [129, 195, 89, 96, 110, 120, 124, 126, 135, 160]\n",
        "\n",
        "# Estimated time an aircraft can arrive at the airport\n",
        "estimated_arrival_time = [155, 258, 96, 106, 123, 135, 138, 140, 150, 180]\n",
        "\n",
        "# Latest time an aircraft can arrive at the airport\n",
        "latest_arrival_time = [559, 744, 510, 521, 555, 576, 577, 573, 591, 657]\n",
        "\n",
        "# Penalties attributed to aircrafts due to early or late arrival at the airport\n",
        "early_arrival_penalty = [10, 10, 30, 30, 30, 30, 30, 30, 30, 30]\n",
        "late_arrival_penalty = [10, 10, 30, 30, 30, 30, 30, 30, 30, 30]\n",
        "\n",
        "# An array declaring the minimum time required between landings, depending on the aircrafts\n",
        "min_time_between_landings = [[0, 3, 15, 15, 15, 15, 15, 15, 15, 15],\n",
        "                             [3, 0, 15, 15, 15, 15, 15, 15, 15, 15],\n",
        "                             [15, 15, 0, 8, 8, 8, 8, 8, 8, 8],\n",
        "                             [15, 15, 8, 0, 8, 8, 8, 8, 8, 8],\n",
        "                             [15, 15, 8, 8, 0, 8, 8, 8, 8, 8],\n",
        "                             [15, 15, 8, 8, 8, 0, 8, 8, 8, 8],\n",
        "                             [15, 15, 8, 8, 8, 8, 0, 8, 8, 8],\n",
        "                             [15, 15, 8, 8, 8, 8, 8, 0, 8, 8],\n",
        "                             [15, 15, 8, 8, 8, 8, 8, 8, 0, 8],\n",
        "                             [15, 15, 8, 8, 8, 8, 8, 8, 8, 0]]\n",
        "\n",
        "\n",
        "\n"
      ],
      "metadata": {
        "id": "P_FTumO0Wwiz"
      },
      "execution_count": 318,
      "outputs": []
    },
    {
      "cell_type": "markdown",
      "source": [
        "###Ανάπτυξη του Μοντέλου\n",
        "#####Δημιουργία του μοντέλου και ορισμός των μεταβλητών απόφασης"
      ],
      "metadata": {
        "id": "EKa6XR_t0HFi"
      }
    },
    {
      "cell_type": "code",
      "source": [
        "# Model creation\n",
        "model = gp.Model(\"aircraft_landing\")\n",
        "\n",
        "\n",
        "# Decision variables declaration\n",
        "t = model.addVars(10, vtype=GRB.CONTINUOUS, name=\"t\")   # Time of landing of an aircraft\n",
        "e = model.addVars(10, vtype=GRB.CONTINUOUS, name=\"e\")   # The period of time during which an aircraft lands earlier than the estimated time\n",
        "l = model.addVars(10, vtype=GRB.CONTINUOUS, name=\"l\")   # The period of time during which an aircraft lands later than the estimated time\n",
        "z = model.addVars(10, vtype=GRB.BINARY, name=\"z\")       # Indicator binary variables\n",
        "\n",
        "M = 1000  # A large constant, should be greater than the maximum possible difference\n"
      ],
      "metadata": {
        "id": "GsjQQ8f60_Tb"
      },
      "execution_count": 319,
      "outputs": []
    },
    {
      "cell_type": "markdown",
      "source": [
        "###Ορισμός Αντικειμενικής Συνάρτησης\n",
        "#####Η αντικειμενική συνάρτηση που περιγράφει το πρόβλημα είναι η:\n",
        "\n",
        "\\begin{equation}\n",
        "\\\n",
        "\\min \\sum_{i=1}^{10} \\left( p_i^{\\text{early}} \\cdot e_i + p_i^{\\text{late}} \\cdot l_i \\right)\n",
        "\\\n",
        "\\end{equation}\n",
        "\n",
        "#####όπου:\n",
        "- $p_i^{\\text{early}}$ είναι η ποινή για πρόωρη προσγείωση του αεροσκάφους $i$.\n",
        "- $p_i^{\\text{late}}$ είναι η ποινή για καθυστερημένη προσγείωση του αεροσκάφους $i$.\n",
        "- $e_i$ είναι η χρονική διαφορά όταν το αεροσκάφος $i$ προσγειώνεται νωρίτερα από τον εκτιμώμενο χρόνο προσγείωσης (γίνεται ίση με 0 αν το αεροσκάφος προσγειωθεί αργότερα από τον εκτιμώμενο χρόνο προσγείωσης).\n",
        "- $l_i$ είναι η χρονική διαφορά όταν το αεροσκάφος $i$ προσγειώνεται αργότερα από τον εκτιμώμενο χρόνο προσγείωσης (γίνεται ίση με 0 αν το αεροσκάφος προσγειωθεί νωρίτερα από τον εκτιμώμενο χρόνο προσγείωσης).\n",
        "\n",
        "\\\\\n",
        "\n",
        "\n",
        "#####Η αντικειμενική συνάρτηση εκφράζεται με τον παρακάτω κώδικα:\n",
        "\n",
        "\n",
        "\n",
        "\n"
      ],
      "metadata": {
        "id": "aT5xZ47r8GMo"
      }
    },
    {
      "cell_type": "code",
      "source": [
        "model.setObjective(gp.quicksum(early_arrival_penalty[i] * e[i] + late_arrival_penalty[i] * l[i] for i in range(10)), GRB.MINIMIZE)"
      ],
      "metadata": {
        "id": "AVrRfAW38TVd"
      },
      "execution_count": 320,
      "outputs": []
    },
    {
      "cell_type": "markdown",
      "source": [
        "###Περιορισμοί\n",
        "\n",
        "\n",
        "1. Διασφάλιση ότι οι ώρες προσγείωσης είναι εντός των επιτρεπόμενων χρονικών παραθύρων.\n",
        "Για κάθε αεροσκάφος $i$:\n",
        "\\begin{align}\n",
        "t_i &\\geq \\text{earliest_arrival_time}_i \\\\\n",
        "t_i &\\leq \\text{latest_arrival_time}_i\n",
        "\\end{align}\n",
        "\n",
        "2. Διασφάλιση σωστού υπολογισμού των ποινών για πρόωρη και καθυστερημένη προσγείωση.\n",
        "Για κάθε αεροσκάφος $i$:\n",
        "\\begin{align}\n",
        "e_i &\\geq \\text{estimated_arrival_time}_i - t_i \\\\\n",
        "l_i &\\geq t_i - \\text{estimated_arrival_time}_i\n",
        "\\end{align}\n",
        "\n",
        "3. Χρήση του μεγάλου $Μ$ για την επιβολή των λογικών περιορισμών.\n",
        "Για κάθε αεροσκάφος $i$:\n",
        "\\begin{align}\n",
        "e_i &\\leq M \\cdot z_i \\\\\n",
        "l_i &\\leq M \\cdot (1 - z_i)\n",
        "\\end{align}\n",
        "\n",
        "4. Διασφάλιση μη-αρνητικότητας των ποινών για πρόωρη και καθυστερημένη προσγείωση.\n",
        "Για κάθε αεροσκάφος $i$:\n",
        "\\begin{align}\n",
        "e_i &\\geq 0 \\\\\n",
        "l_i &\\geq 0\n",
        "\\end{align}\n",
        "\n",
        "5. Διασφάλιση του ελάχιστου χρόνου μεταξύ των προσγειώσεων.\n",
        "Για κάθε ζεύγος αεροσκαφών $i$ και $j$ με $i < j$:\n",
        "\\begin{align}\n",
        "t_j &\\geq t_i + \\text{min_time_between_landings}_{i,j}\n",
        "\\end{align}\n",
        "\n",
        "\n"
      ],
      "metadata": {
        "id": "GK93Utr7H0FH"
      }
    },
    {
      "cell_type": "code",
      "source": [
        "# Ensure landing times are within the allowed time window\n",
        "for i in range(10):\n",
        "    model.addConstr(t[i] >= earliest_arrival_time[i], f\"earliest_{i}\")\n",
        "    model.addConstr(t[i] <= latest_arrival_time[i], f\"latest_{i}\")\n",
        "\n",
        "# Ensure correct calculation of early and late landings\n",
        "for i in range(10):\n",
        "    model.addConstr(e[i] >= estimated_arrival_time[i] - t[i], f\"early_{i}\")\n",
        "    model.addConstr(l[i] >= t[i] - estimated_arrival_time[i], f\"late_{i}\")\n",
        "\n",
        "    # Use big-M to enforce the logical constraints\n",
        "    model.addConstr(e[i] <= M * z[i], f\"bigM1_{i}\")\n",
        "    model.addConstr(l[i] <= M * (1 - z[i]), f\"bigM2_{i}\")\n",
        "\n",
        "    # Ensure non-negativity of early and late landing times\n",
        "    model.addConstr(e[i] >= 0, f\"nonneg_e_{i}\")\n",
        "    model.addConstr(l[i] >= 0, f\"nonneg_l_{i}\")\n",
        "\n",
        "# Ensure minimum time between landings\n",
        "for i in range(10):\n",
        "    for j in range(i + 1, 10):\n",
        "        model.addConstr(t[j] >= t[i] + min_time_between_landings[i][j], f\"separation1_{i}_{j}\")"
      ],
      "metadata": {
        "id": "FuJZMpjBIK5x"
      },
      "execution_count": 321,
      "outputs": []
    },
    {
      "cell_type": "markdown",
      "source": [
        "###Βελτιστοποίηση\n",
        "#####Εύρεση της βέλτιστης λύσης μέσω του Gurobi Solver"
      ],
      "metadata": {
        "id": "hXPcvcB2MYMQ"
      }
    },
    {
      "cell_type": "code",
      "source": [
        "model.optimize()\n",
        "\n",
        "# If the model is infeasible, use Gurobi's infeasibility diagnostic tools\n",
        "if model.status == GRB.INFEASIBLE:\n",
        "    print('Model is infeasible')\n",
        "    model.computeIIS()\n",
        "    model.write(\"model.ilp\")\n",
        "\n",
        "    # Read and print the IIS file to understand the conflicts\n",
        "    with open(\"model.ilp\", \"r\") as f:\n",
        "        for line in f:\n",
        "            print(line.strip())\n",
        "\n",
        "# Print results if feasible\n",
        "if model.status == GRB.OPTIMAL:\n",
        "    for i in range(10):\n",
        "        print(f\"Aircraft {i+1} lands at time {t[i].X}\")\n",
        "        print(f\"  Early landing penalty time: {e[i].X}\")\n",
        "        print(f\"  Late landing penalty time: {l[i].X}\")"
      ],
      "metadata": {
        "colab": {
          "base_uri": "https://localhost:8080/"
        },
        "id": "0xXFxBd7Md4g",
        "outputId": "2d28b718-61d2-4f3e-c9fb-13092a928869"
      },
      "execution_count": 322,
      "outputs": [
        {
          "output_type": "stream",
          "name": "stdout",
          "text": [
            "Gurobi Optimizer version 11.0.2 build v11.0.2rc0 (linux64 - \"Ubuntu 22.04.3 LTS\")\n",
            "\n",
            "CPU model: Intel(R) Xeon(R) CPU @ 2.20GHz, instruction set [SSE2|AVX|AVX2]\n",
            "Thread count: 1 physical cores, 2 logical processors, using up to 2 threads\n",
            "\n",
            "Optimize a model with 125 rows, 40 columns and 210 nonzeros\n",
            "Model fingerprint: 0x66f649c1\n",
            "Variable types: 30 continuous, 10 integer (10 binary)\n",
            "Coefficient statistics:\n",
            "  Matrix range     [1e+00, 1e+03]\n",
            "  Objective range  [1e+01, 3e+01]\n",
            "  Bounds range     [1e+00, 1e+00]\n",
            "  RHS range        [3e+00, 1e+03]\n",
            "Presolve removed 125 rows and 40 columns\n",
            "Presolve time: 0.00s\n",
            "Presolve: All rows and columns removed\n",
            "\n",
            "Explored 0 nodes (0 simplex iterations) in 0.01 seconds (0.00 work units)\n",
            "Thread count was 1 (of 2 available processors)\n",
            "\n",
            "Solution count 1: 25710 \n",
            "\n",
            "Optimal solution found (tolerance 1.00e-04)\n",
            "Best objective 2.571000000000e+04, best bound 2.571000000000e+04, gap 0.0000%\n",
            "Aircraft 1 lands at time 155.0\n",
            "  Early landing penalty time: 0.0\n",
            "  Late landing penalty time: 0.0\n",
            "Aircraft 2 lands at time 195.0\n",
            "  Early landing penalty time: 63.0\n",
            "  Late landing penalty time: 0.0\n",
            "Aircraft 3 lands at time 210.0\n",
            "  Early landing penalty time: 0.0\n",
            "  Late landing penalty time: 114.0\n",
            "Aircraft 4 lands at time 218.0\n",
            "  Early landing penalty time: 0.0\n",
            "  Late landing penalty time: 112.0\n",
            "Aircraft 5 lands at time 226.0\n",
            "  Early landing penalty time: 0.0\n",
            "  Late landing penalty time: 103.0\n",
            "Aircraft 6 lands at time 234.0\n",
            "  Early landing penalty time: 0.0\n",
            "  Late landing penalty time: 99.0\n",
            "Aircraft 7 lands at time 242.0\n",
            "  Early landing penalty time: 0.0\n",
            "  Late landing penalty time: 104.0\n",
            "Aircraft 8 lands at time 250.0\n",
            "  Early landing penalty time: 0.0\n",
            "  Late landing penalty time: 110.0\n",
            "Aircraft 9 lands at time 258.0\n",
            "  Early landing penalty time: 0.0\n",
            "  Late landing penalty time: 108.0\n",
            "Aircraft 10 lands at time 266.0\n",
            "  Early landing penalty time: 0.0\n",
            "  Late landing penalty time: 86.0\n"
          ]
        }
      ]
    },
    {
      "cell_type": "markdown",
      "source": [
        "###Αποτελέσματα\n",
        "#####Για τα δεδομένα που παρουσιάστηκαν, εκτιμήθηκε πως το ελάχιστο συνολικό κόστος ανέρχεται στα 25710, ενώ ο βέλτιστος προγραμματισμός που προέκυψε έχει ως εξής:\n",
        "| Αεροσκάφος | Χρόνος Προσγείωσης | Πρόστιμο Πρόωρης Προσγείωσης | Πρόστιμο Καθυστερημένης Προσγείωσης |\n",
        "| --- | --- | --- | --- |\n",
        "| 1 | 155 | 0 | 0 |\n",
        "| 2 | 195 | 63 | 0 |\n",
        "| 3 | 210 | 0 | 114 |\n",
        "| 4 | 218 | 0 | 112 |\n",
        "| 5 | 226 | 0 | 103 |\n",
        "| 6 | 234 | 0 | 99 |\n",
        "| 7 | 242 | 0 | 104 |\n",
        "| 8 | 250 | 0 | 110 |\n",
        "| 9 | 258 | 0 | 108 |\n",
        "| 10 | 266 | 0 | 86 |\n",
        "\n",
        "\n",
        "\n",
        "\n",
        "\n",
        "\n",
        "\n",
        "\n",
        "  "
      ],
      "metadata": {
        "id": "XS5l7ZRzBuDG"
      }
    },
    {
      "cell_type": "markdown",
      "source": [
        "##2ο Ερώτημα - Σχεδιασμός Παράδοσης Πετρελαίου"
      ],
      "metadata": {
        "id": "dNw18BA03YNS"
      }
    },
    {
      "cell_type": "markdown",
      "source": [
        "###Εισαγωγή Δεδομένων\n",
        "#####Ορισμός των δεδομένων εισόδου του μοντέλου"
      ],
      "metadata": {
        "id": "8nxg5o993tfw"
      }
    },
    {
      "cell_type": "code",
      "source": [
        "# Points of the refinery and the cities\n",
        "points = ['Ω', 'Α', 'Β', 'Γ', 'Δ', 'Ε', 'ΣΤ']\n",
        "\n",
        "# Oil demand for each city (in liters)\n",
        "oil_demand = [14000, 3000, 6000, 16000, 15000, 5000]\n",
        "\n",
        "# Array of distances between the refinery and the cities in demand (in kilometers)\n",
        "distances = [[0, 148, 55, 32, 70, 140, 73],\n",
        "             [148, 0, 93, 180, 99, 12, 72],\n",
        "             [55, 93, 0, 85, 20, 83, 28],\n",
        "             [32, 180, 85, 0, 100, 174, 99],\n",
        "             [70, 99, 20, 100, 0, 85, 49],\n",
        "             [140, 12, 83, 174, 85, 0, 73],\n",
        "             [73, 72, 28, 99, 49, 73, 0]]\n",
        "\n",
        "# Storage capacity of the tankers (in liters)\n",
        "storage_capacity = 39000\n",
        "\n",
        "# Convert distances to a dictionary for ease of use with Gurobi\n",
        "dist_dict = {}\n",
        "for i in range(len(points)):\n",
        "    for j in range(len(points)):\n",
        "        dist_dict[(points[i], points[j])] = distances[i][j]"
      ],
      "metadata": {
        "id": "PY4S1h273vRe"
      },
      "execution_count": 323,
      "outputs": []
    },
    {
      "cell_type": "markdown",
      "source": [
        "###Ανάπτυξη του Μοντέλου\n",
        "#####Δημιουργία του μοντέλου και ορισμός των μεταβλητών απόφασης"
      ],
      "metadata": {
        "id": "4cKyYN0M6hRt"
      }
    },
    {
      "cell_type": "code",
      "source": [
        "# Model creation\n",
        "model = gp.Model('OilDelivery')\n",
        "\n",
        "# Decision variables declaration\n",
        "x = model.addVars(dist_dict.keys(), vtype=GRB.BINARY, name=\"x\")   # Binary variables that show if a route between two points is used\n",
        "u = model.addVars(points[1:], vtype=GRB.CONTINUOUS, name=\"u\")     # Continuous variables for sub-tour balancing"
      ],
      "metadata": {
        "id": "sQ-_b4dR6if-"
      },
      "execution_count": 324,
      "outputs": []
    },
    {
      "cell_type": "markdown",
      "source": [
        "###Ορισμός Αντικειμενικής Συνάρτησης\n",
        "#####Η αντικειμενική συνάρτηση που περιγράφει το πρόβλημα είναι η:\n",
        "\n",
        "\\begin{equation}\n",
        "\\\n",
        "\\min \\sum_{(i, j) \\in \\text{dist_dict.keys()}} \\text{dist_dict}[i, j] \\cdot x[i, j]\n",
        "\\\n",
        "\\end{equation}\n",
        "\n",
        "#####όπου:\n",
        "- $dist\\_dict[i,j]$ είναι η απόσταση μεταξύ των πόλεων $i$ και $j$.\n",
        "- $x[i,j]$ είναι η δυαδική μεταβλητή που παίρνει την τιμή 1 αν η διαδρομή από την πόλη $i$ στην πόλη $j$ χρησιμοποιείται, αλλιώς παίρνει την τιμή 0.\n",
        "\n",
        "\n",
        "\\\\\n",
        "#####Η αντικειμενική συνάρτηση εκφράζεται με τον παρακάτω κώδικα:\n"
      ],
      "metadata": {
        "id": "2Ns0KwSwY2DX"
      }
    },
    {
      "cell_type": "code",
      "source": [
        "model.setObjective(gp.quicksum(dist_dict[i, j] * x[i, j] for i, j in dist_dict.keys()), GRB.MINIMIZE)\n"
      ],
      "metadata": {
        "id": "c1hycvtdY39u"
      },
      "execution_count": 325,
      "outputs": []
    },
    {
      "cell_type": "markdown",
      "source": [
        "###Περιορισμοί\n",
        "\n",
        "1.  Κάθε σημείο (εκτός από το διυλιστήριο) πρέπει να δέχεται επίσκεψη μόνο μία φορά:\n",
        "\n",
        "  Για κάθε σημείο $j$ εκτός από το διυλιστήριο, η ποσότητα των εισερχομένων διαδρομών πρέπει να είναι ίση με την ποσότητα των εξερχομένων διαδρομών, και αυτές πρέπει να είναι ίσες με 1.\n",
        "  \n",
        "\\begin{equation}\n",
        "\\sum_{i \\in \\text{points}} x[i, j] = 1, \\quad \\forall \\ j \\neq Ω\n",
        "\\end{equation}\n",
        "\n",
        "\\begin{equation}\n",
        "\\sum_{j \\in \\text{points}} x[j, k] = 1, \\quad \\forall \\ k \\neq Ω\n",
        "\\end{equation}\n",
        "\n",
        "2.  Περιορισμοί ισορροπίας υπο-περιοδείας:\n",
        "\n",
        "  Για κάθε σημεία $i$ και $j$, όπου $i \\neq j$ και υπάρχει απόσταση μεταξύ τους, ελέγχουμε ότι η ποσότητα πετρελαίου που φεύγει από το σημείο $i$ πρέπει να είναι μικρότερη ή ίση από τη χωρητικότητα του τανκερ μείον την ποσότητα πετρελαίου που φτάνει στο σημείο $j$.\n",
        "\n",
        "\\begin{equation}\n",
        "u[i] - u[j] + \\text{storage_capacity} \\cdot x[i, j] \\leq \\text{storage_capacity} - \\text{oil_demand}[j-1], \\quad \\forall \\ i, j \\neq Ω \\ \\text{και} \\ (i, j) \\in \\text{dist_dict}\n",
        "\\end{equation}\n",
        "\n",
        "\\\\\n",
        "3.  Το πετρελαιοφόρο πρέπει να μεταφέρει αρκετή ποσότητα πετρελαίου για να καλύψει τη ζήτηση:\n",
        "\n",
        "  Για κάθε σημείο $i$ εκτός από το διυλιστήριο, η ποσότητα πετρελαίου που φεύγει από αυτό πρέπει να είναι τουλάχιστον ίση με τη ζήτηση πετρελαίου του αντίστοιχου σημείου.\n",
        "\n",
        "\\begin{equation}\n",
        "u[i] \\geq \\text{oil_demand}[i-1], \\quad \\forall \\ i \\neq Ω\n",
        "\\end{equation}\n",
        "\n",
        "4.  Το πετρελαιοφόρο μπορεί να μεταφέρει έως 39000 λίτρα ανά διαδρομή:\n",
        "\n",
        "  Για κάθε διαδρομή από την πόλη $i$ στην πόλη $j$, η ποσότητα του πετρελαίου που μεταφέρεται δεν πρέπει να υπερβαίνει τη χωρητικότητα του τάνκερ.\n",
        "\n",
        "\\begin{equation}\n",
        "x[i, j] \\cdot \\text{oil_demand}[j-1] \\leq \\text{storage_capacity}, \\quad \\forall \\ (i, j) \\in \\text{dist_dict}\n",
        "\\end{equation}\n",
        "\n",
        "5.  Αποφυγή επιστροφής στο ίδιο σημείο:\n",
        "\n",
        "  Η ποσότητα πετρελαίου που μεταφέρεται από το σημείο $i$ στο ίδιο σημείο $i$ πρέπει να είναι μηδέν.\n",
        "\n",
        "\\begin{equation}\n",
        "x[i, i] = 0, \\quad \\forall \\ i\n",
        "\\end{equation}\n"
      ],
      "metadata": {
        "id": "fbqnRxsaZAy3"
      }
    },
    {
      "cell_type": "code",
      "source": [
        "# Every point (except for the refinery) must be visited only once\n",
        "for j in points:\n",
        "    if j != 'Ω':\n",
        "        model.addConstr(gp.quicksum(x[i, j] for i in points if (i, j) in dist_dict) == 1)\n",
        "        model.addConstr(gp.quicksum(x[j, k] for k in points if (j, k) in dist_dict) == 1)\n",
        "\n",
        "# Sub-tour balancing constraints\n",
        "for i in points[1:]:\n",
        "    for j in points[1:]:\n",
        "        if i != j and (i, j) in dist_dict:\n",
        "            model.addConstr(u[i] - u[j] + storage_capacity * x[i, j] <= storage_capacity - oil_demand[points.index(j) - 1])\n",
        "\n",
        "# The tanker needs to carry a sufficient amount of oil, to cover the demand\n",
        "for i in points[1:]:\n",
        "    model.addConstr(u[i] >= oil_demand[points.index(i) - 1])\n",
        "\n",
        "# The tanker can only carry up to 39000 liters per route\n",
        "for i, j in dist_dict.keys():\n",
        "    model.addConstr(x[i, j] * oil_demand[points.index(j) - 1] <= storage_capacity)\n",
        "\n",
        "# Avoid returning to the same point\n",
        "for i in points:\n",
        "    model.addConstr(x[i, i] == 0)"
      ],
      "metadata": {
        "id": "07E7osZbZDpB"
      },
      "execution_count": 326,
      "outputs": []
    },
    {
      "cell_type": "markdown",
      "source": [
        "###Βελτιστοποίηση\n",
        "#####Εύρεση της βέλτιστης λύσης μέσω του Gurobi Solver"
      ],
      "metadata": {
        "id": "aFNk4938ZNgZ"
      }
    },
    {
      "cell_type": "code",
      "source": [
        "model.optimize()\n",
        "\n",
        "# Printing results\n",
        "if model.status == GRB.OPTIMAL:\n",
        "    solution = model.getAttr('x', x)\n",
        "    selected_routes = {k: v for k, v in solution.items() if v > 0.5}\n",
        "\n",
        "    print('Βέλτιστες διαδρομές:')\n",
        "\n",
        "    def find_next_city(current_city):\n",
        "        for (i, j), value in selected_routes.items():\n",
        "            if i == current_city:\n",
        "                return j\n",
        "        return None\n",
        "\n",
        "    # Function to find all routes starting from Ω\n",
        "    def find_routes_from_Ω():\n",
        "        routes = []\n",
        "        for (i, j), value in selected_routes.items():\n",
        "            if i == 'Ω':\n",
        "                route = ['Ω', j]\n",
        "                next_city = j\n",
        "                while next_city != 'Ω':\n",
        "                    next_city = find_next_city(next_city)\n",
        "                    if next_city is not None:\n",
        "                        route.append(next_city)\n",
        "                    else:\n",
        "                        break\n",
        "                route.append('Ω')\n",
        "                routes.append(route)\n",
        "        return routes\n",
        "\n",
        "    # Find all routes starting from Ω\n",
        "    routes_from_Ω = find_routes_from_Ω()\n",
        "\n",
        "    # Print all routes starting from Ω\n",
        "    for route in routes_from_Ω:\n",
        "        for i in range(len(route) - 1):\n",
        "            print(f'{route[i]} -> {route[i + 1]}')\n",
        "else:\n",
        "    print('Δεν βρέθηκε βέλτιστη λύση')\n"
      ],
      "metadata": {
        "colab": {
          "base_uri": "https://localhost:8080/"
        },
        "id": "aYd8LHq8ZRrJ",
        "outputId": "b8aa9e32-12c8-487f-8983-ba4135ecf7f3"
      },
      "execution_count": 327,
      "outputs": [
        {
          "output_type": "stream",
          "name": "stdout",
          "text": [
            "Gurobi Optimizer version 11.0.2 build v11.0.2rc0 (linux64 - \"Ubuntu 22.04.3 LTS\")\n",
            "\n",
            "CPU model: Intel(R) Xeon(R) CPU @ 2.20GHz, instruction set [SSE2|AVX|AVX2]\n",
            "Thread count: 1 physical cores, 2 logical processors, using up to 2 threads\n",
            "\n",
            "Optimize a model with 104 rows, 55 columns and 236 nonzeros\n",
            "Model fingerprint: 0x6c0e53aa\n",
            "Variable types: 6 continuous, 49 integer (49 binary)\n",
            "Coefficient statistics:\n",
            "  Matrix range     [1e+00, 4e+04]\n",
            "  Objective range  [1e+01, 2e+02]\n",
            "  Bounds range     [1e+00, 1e+00]\n",
            "  RHS range        [1e+00, 4e+04]\n",
            "Found heuristic solution: objective 826.0000000\n",
            "Presolve removed 62 rows and 23 columns\n",
            "Presolve time: 0.00s\n",
            "Presolved: 42 rows, 32 columns, 138 nonzeros\n",
            "Variable types: 6 continuous, 26 integer (26 binary)\n",
            "Found heuristic solution: objective 515.0000000\n",
            "\n",
            "Root relaxation: objective 2.461282e+02, 26 iterations, 0.00 seconds (0.00 work units)\n",
            "\n",
            "    Nodes    |    Current Node    |     Objective Bounds      |     Work\n",
            " Expl Unexpl |  Obj  Depth IntInf | Incumbent    BestBd   Gap | It/Node Time\n",
            "\n",
            "     0     0  246.12821    0   12  515.00000  246.12821  52.2%     -    0s\n",
            "H    0     0                     497.0000000  246.12821  50.5%     -    0s\n",
            "     0     0  281.00000    0   10  497.00000  281.00000  43.5%     -    0s\n",
            "     0     0  285.07692    0   10  497.00000  285.07692  42.6%     -    0s\n",
            "     0     0  285.07692    0   10  497.00000  285.07692  42.6%     -    0s\n",
            "     0     0  285.07692    0   10  497.00000  285.07692  42.6%     -    0s\n",
            "     0     0  285.07692    0   10  497.00000  285.07692  42.6%     -    0s\n",
            "     0     0  285.07692    0   10  497.00000  285.07692  42.6%     -    0s\n",
            "     0     2  285.07692    0   10  497.00000  285.07692  42.6%     -    0s\n",
            "\n",
            "Cutting planes:\n",
            "  Learned: 2\n",
            "  Implied bound: 5\n",
            "  MIR: 4\n",
            "\n",
            "Explored 182 nodes (957 simplex iterations) in 0.18 seconds (0.02 work units)\n",
            "Thread count was 2 (of 2 available processors)\n",
            "\n",
            "Solution count 3: 497 515 826 \n",
            "\n",
            "Optimal solution found (tolerance 1.00e-04)\n",
            "Best objective 4.970000000000e+02, best bound 4.970000000000e+02, gap 0.0000%\n",
            "Βέλτιστες διαδρομές:\n",
            "Ω -> Β\n",
            "Β -> Ε\n",
            "Ε -> Α\n",
            "Α -> ΣΤ\n",
            "ΣΤ -> Ω\n",
            "Ω -> Ω\n",
            "Ω -> Γ\n",
            "Γ -> Δ\n",
            "Δ -> Ω\n",
            "Ω -> Ω\n"
          ]
        }
      ]
    },
    {
      "cell_type": "markdown",
      "source": [
        "###Αποτελέσματα\n",
        "#####Με βάση την παραπάνω ανάλυση, προκύπτει πως η βέλτιστη διαδρομή είναι:\n",
        "\\\n",
        "\\begin{align*}\n",
        "Ω &\\rightarrow Β \\rightarrow Ε \\rightarrow Α \\rightarrow ΣΤ \\rightarrow Ω \\rightarrow Γ \\rightarrow Δ \\rightarrow Ω \\\\\n",
        "\\end{align*}\n",
        "\n",
        "##### και έχει συνολικό μήκος 497 χιλιόμετρα.\n"
      ],
      "metadata": {
        "id": "IPkwqCN8nRQL"
      }
    }
  ]
}